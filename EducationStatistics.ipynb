{
 "cells": [
  {
   "cell_type": "markdown",
   "metadata": {},
   "source": [
    "<font size=5>This notebook will show the process I went through to analyze the data I collected regarding the average percentage of schools with internet access for learning in various regions. I initially collected data about the percentage of schools with internet access in each country in each region. With this data, I created a separate dataset containing the average percentage for each continent for each year.\n",
    "The data is from countries in Europe, South Asia, Africa, and Latin America."
   ]
  },
  {
   "cell_type": "code",
   "execution_count": 192,
   "metadata": {},
   "outputs": [],
   "source": [
    "import pandas as pd\n",
    "import numpy as np\n",
    "\n",
    "df = pd.read_csv('Continent_Percentages.csv')\n",
    "init_df = pd.read_csv('Education_statistics.csv')"
   ]
  },
  {
   "cell_type": "markdown",
   "metadata": {},
   "source": [
    "<font size=5>The table below will make it easier to understand the data collection and to explain some nuances in the data. The table illustrates the concept I discussed in the first markdown. It shows the percentage of schools that have internet access in that country for years 2015-2019. The 'NaN' are unknown values and do not factor into the average. "
   ]
  },
  {
   "cell_type": "code",
   "execution_count": 193,
   "metadata": {},
   "outputs": [
    {
     "data": {
      "text/html": [
       "<div>\n",
       "<style scoped>\n",
       "    .dataframe tbody tr th:only-of-type {\n",
       "        vertical-align: middle;\n",
       "    }\n",
       "\n",
       "    .dataframe tbody tr th {\n",
       "        vertical-align: top;\n",
       "    }\n",
       "\n",
       "    .dataframe thead th {\n",
       "        text-align: right;\n",
       "    }\n",
       "</style>\n",
       "<table border=\"1\" class=\"dataframe\">\n",
       "  <thead>\n",
       "    <tr style=\"text-align: right;\">\n",
       "      <th></th>\n",
       "      <th>economy</th>\n",
       "      <th>YR2015</th>\n",
       "      <th>YR2016</th>\n",
       "      <th>YR2017</th>\n",
       "      <th>YR2018</th>\n",
       "      <th>YR2019</th>\n",
       "    </tr>\n",
       "  </thead>\n",
       "  <tbody>\n",
       "    <tr>\n",
       "      <th>0</th>\n",
       "      <td>ABW</td>\n",
       "      <td>NaN</td>\n",
       "      <td>NaN</td>\n",
       "      <td>NaN</td>\n",
       "      <td>NaN</td>\n",
       "      <td>NaN</td>\n",
       "    </tr>\n",
       "    <tr>\n",
       "      <th>1</th>\n",
       "      <td>AGO</td>\n",
       "      <td>NaN</td>\n",
       "      <td>25.64972</td>\n",
       "      <td>NaN</td>\n",
       "      <td>NaN</td>\n",
       "      <td>NaN</td>\n",
       "    </tr>\n",
       "    <tr>\n",
       "      <th>2</th>\n",
       "      <td>ARG</td>\n",
       "      <td>58.34431</td>\n",
       "      <td>57.82450</td>\n",
       "      <td>56.82104</td>\n",
       "      <td>NaN</td>\n",
       "      <td>NaN</td>\n",
       "    </tr>\n",
       "    <tr>\n",
       "      <th>3</th>\n",
       "      <td>ATG</td>\n",
       "      <td>NaN</td>\n",
       "      <td>NaN</td>\n",
       "      <td>90.90909</td>\n",
       "      <td>100.00000</td>\n",
       "      <td>NaN</td>\n",
       "    </tr>\n",
       "    <tr>\n",
       "      <th>4</th>\n",
       "      <td>BDI</td>\n",
       "      <td>NaN</td>\n",
       "      <td>6.84932</td>\n",
       "      <td>6.84932</td>\n",
       "      <td>6.84932</td>\n",
       "      <td>NaN</td>\n",
       "    </tr>\n",
       "  </tbody>\n",
       "</table>\n",
       "</div>"
      ],
      "text/plain": [
       "  economy    YR2015    YR2016    YR2017     YR2018  YR2019\n",
       "0     ABW       NaN       NaN       NaN        NaN     NaN\n",
       "1     AGO       NaN  25.64972       NaN        NaN     NaN\n",
       "2     ARG  58.34431  57.82450  56.82104        NaN     NaN\n",
       "3     ATG       NaN       NaN  90.90909  100.00000     NaN\n",
       "4     BDI       NaN   6.84932   6.84932    6.84932     NaN"
      ]
     },
     "execution_count": 193,
     "metadata": {},
     "output_type": "execute_result"
    }
   ],
   "source": [
    "init_df.head(5)"
   ]
  },
  {
   "cell_type": "markdown",
   "metadata": {},
   "source": [
    "<font size=5>The table below shows the average percentage for each continent from 2015-2019. Unfortunately, there is unknown data for every South Asian country except India until 2016, and Central Europe has unknown values from 2017-2019, resulting in a slightly inaccurate table."
   ]
  },
  {
   "cell_type": "code",
   "execution_count": 194,
   "metadata": {},
   "outputs": [
    {
     "data": {
      "text/html": [
       "<div>\n",
       "<style scoped>\n",
       "    .dataframe tbody tr th:only-of-type {\n",
       "        vertical-align: middle;\n",
       "    }\n",
       "\n",
       "    .dataframe tbody tr th {\n",
       "        vertical-align: top;\n",
       "    }\n",
       "\n",
       "    .dataframe thead th {\n",
       "        text-align: right;\n",
       "    }\n",
       "</style>\n",
       "<table border=\"1\" class=\"dataframe\">\n",
       "  <thead>\n",
       "    <tr style=\"text-align: right;\">\n",
       "      <th></th>\n",
       "      <th>year</th>\n",
       "      <th>AFR</th>\n",
       "      <th>CSA</th>\n",
       "      <th>CLA</th>\n",
       "      <th>CEB</th>\n",
       "    </tr>\n",
       "  </thead>\n",
       "  <tbody>\n",
       "    <tr>\n",
       "      <th>0</th>\n",
       "      <td>YR2015</td>\n",
       "      <td>42.154867</td>\n",
       "      <td>96.551720</td>\n",
       "      <td>79.172155</td>\n",
       "      <td>98.940000</td>\n",
       "    </tr>\n",
       "    <tr>\n",
       "      <th>1</th>\n",
       "      <td>YR2016</td>\n",
       "      <td>40.896434</td>\n",
       "      <td>40.187970</td>\n",
       "      <td>76.435658</td>\n",
       "      <td>99.166667</td>\n",
       "    </tr>\n",
       "    <tr>\n",
       "      <th>2</th>\n",
       "      <td>YR2017</td>\n",
       "      <td>59.279349</td>\n",
       "      <td>60.644550</td>\n",
       "      <td>82.014278</td>\n",
       "      <td>NaN</td>\n",
       "    </tr>\n",
       "    <tr>\n",
       "      <th>3</th>\n",
       "      <td>YR2018</td>\n",
       "      <td>49.891585</td>\n",
       "      <td>61.005268</td>\n",
       "      <td>87.240204</td>\n",
       "      <td>NaN</td>\n",
       "    </tr>\n",
       "    <tr>\n",
       "      <th>4</th>\n",
       "      <td>YR2019</td>\n",
       "      <td>52.086034</td>\n",
       "      <td>63.335627</td>\n",
       "      <td>87.548474</td>\n",
       "      <td>NaN</td>\n",
       "    </tr>\n",
       "  </tbody>\n",
       "</table>\n",
       "</div>"
      ],
      "text/plain": [
       "     year        AFR        CSA        CLA        CEB\n",
       "0  YR2015  42.154867  96.551720  79.172155  98.940000\n",
       "1  YR2016  40.896434  40.187970  76.435658  99.166667\n",
       "2  YR2017  59.279349  60.644550  82.014278        NaN\n",
       "3  YR2018  49.891585  61.005268  87.240204        NaN\n",
       "4  YR2019  52.086034  63.335627  87.548474        NaN"
      ]
     },
     "execution_count": 194,
     "metadata": {},
     "output_type": "execute_result"
    }
   ],
   "source": [
    "df.head()"
   ]
  },
  {
   "cell_type": "markdown",
   "metadata": {},
   "source": [
    "<font size=5>The code below outputs the largest average increase for a continent. South Asia's percentage increased by a little over 20%. This indicates an increase in regional investment and development for education."
   ]
  },
  {
   "cell_type": "code",
   "execution_count": 195,
   "metadata": {},
   "outputs": [
    {
     "name": "stdout",
     "output_type": "stream",
     "text": [
      "South Asia Percentages 2016-17\n",
      "40.18797\n",
      "60.64455\n"
     ]
    }
   ],
   "source": [
    "print('South Asia Percentages 2016-17')\n",
    "print(df['CSA'][1])\n",
    "print(df['CSA'][2])"
   ]
  },
  {
   "cell_type": "markdown",
   "metadata": {},
   "source": [
    "<font size=5>The code below outputs the lowest and highest overall percentages. The difference is nearly 59%, which indicates a major gap in educational development between the two regions."
   ]
  },
  {
   "cell_type": "code",
   "execution_count": 196,
   "metadata": {},
   "outputs": [
    {
     "name": "stdout",
     "output_type": "stream",
     "text": [
      "Min and Max Continent Percentages\n",
      "Lowest Overall Percentage: 40.896433846153855 Africa 2016\n",
      "Highest Overall Percentage: 99.16666666666669 Central Europe and Baltic 2016\n"
     ]
    }
   ],
   "source": [
    "print('Min and Max Continent Percentages')\n",
    "print('Lowest Overall Percentage:', df['AFR'][1], 'Africa 2016')\n",
    "print('Highest Overall Percentage:', df['CEB'][1], 'Central Europe and Baltic 2016')"
   ]
  },
  {
   "cell_type": "markdown",
   "metadata": {},
   "source": [
    "<font size=5>Below is the line plot of the mean percentage of schools with internet access in the different regions. Because of the unknown data, the line for South Asia and Central Europe is quite inaccurate. The line plot was made by using the builtin data frame plot line method, and was then saved as a JPG."
   ]
  },
  {
   "cell_type": "code",
   "execution_count": 197,
   "metadata": {},
   "outputs": [
    {
     "data": {
      "image/png": "[encoded data removed]",
      "text/plain": [
       "<Figure size 640x480 with 1 Axes>"
      ]
     },
     "metadata": {},
     "output_type": "display_data"
    }
   ],
   "source": [
    "\n",
    "import matplotlib.pyplot as plt\n",
    "\n",
    "df_plot = df.plot.line(x='year', xlabel='Year', ylabel='Mean Percentage (%)', title='Mean Percentage of Schools with Internet Access')\n",
    "\n",
    "df_plot.get_figure().savefig('Continent_Percentage.jpg')\n",
    "\n"
   ]
  }
 ],
 "metadata": {
  "kernelspec": {
   "display_name": "Python 3.10.6 64-bit",
   "language": "python",
   "name": "python3"
  },
  "language_info": {
   "codemirror_mode": {
    "name": "ipython",
    "version": 3
   },
   "file_extension": ".py",
   "mimetype": "text/x-python",
   "name": "python",
   "nbconvert_exporter": "python",
   "pygments_lexer": "ipython3",
   "version": "3.10.6"
  },
  "orig_nbformat": 4,
  "vscode": {
   "interpreter": {
    "hash": "be20d9baef4cb16da3bb874a051575f4de8fa71c3db46c0a1dc20ae78601d456"
   }
  }
 },
 "nbformat": 4,
 "nbformat_minor": 2
}
